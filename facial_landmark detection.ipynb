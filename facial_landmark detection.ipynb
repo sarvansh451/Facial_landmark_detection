{
 "cells": [
  {
   "cell_type": "code",
   "execution_count": 1,
   "id": "310d1703-1b58-4dc3-adf5-32482bc72c94",
   "metadata": {},
   "outputs": [],
   "source": [
    "import cv2"
   ]
  },
  {
   "cell_type": "code",
   "execution_count": 2,
   "id": "45bc4a57-2c27-48f4-a17a-a9f3eed4a857",
   "metadata": {},
   "outputs": [],
   "source": [
    "import mediapipe as mp"
   ]
  },
  {
   "cell_type": "code",
   "execution_count": 3,
   "id": "cb9be5e0-78d6-4e7f-a124-3552e2a557dc",
   "metadata": {},
   "outputs": [],
   "source": [
    "mp_drawing=mp.solutions.drawing_utils\n",
    "mp_drawing_styles=mp.solutions.drawing_styles\n",
    "my_drawing_specs=mp_drawing.DrawingSpec(color=(0,255,0),thickness=1)\n"
   ]
  },
  {
   "cell_type": "code",
   "execution_count": 4,
   "id": "9948bdcb-8086-40b7-83b6-ee419a127781",
   "metadata": {},
   "outputs": [
    {
     "name": "stderr",
     "output_type": "stream",
     "text": [
      "C:\\Users\\KIIT\\AppData\\Local\\Programs\\Python\\Python312\\Lib\\site-packages\\google\\protobuf\\symbol_database.py:55: UserWarning: SymbolDatabase.GetPrototype() is deprecated. Please use message_factory.GetMessageClass() instead. SymbolDatabase.GetPrototype() will be removed soon.\n",
      "  warnings.warn('SymbolDatabase.GetPrototype() is deprecated. Please '\n"
     ]
    }
   ],
   "source": [
    "cap=cv2.VideoCapture(0)# 0 for webcam#\n",
    "mp_face_mesh=mp.solutions.face_mesh\n",
    "\n",
    "\n",
    "with  mp_face_mesh.FaceMesh(\n",
    "    max_num_faces=2,\n",
    "    refine_landmarks= True,\n",
    "    min_detection_confidence=0.5,\n",
    "    min_tracking_confidence=0.5,\n",
    ") as facemesh:\n",
    "    \n",
    "    while cap.isOpened():\n",
    "        success,image=cap.read() \n",
    "        results=facemesh.process(image)\n",
    "        if not success:\n",
    "            break\n",
    "\n",
    "        for face_landmarks in results.multi_face_landmarks:\n",
    "           # print(face_landmarks) captures landmark coordinates#\n",
    "            mp_drawing.draw_landmarks(\n",
    "                image=image,\n",
    "                landmark_list=face_landmarks,\n",
    "                connections=mp_face_mesh.FACEMESH_TESSELATION,\n",
    "                landmark_drawing_spec=None,\n",
    "                connection_drawing_spec=mp_drawing_styles\n",
    "                .get_default_face_mesh_tesselation_style()\n",
    "                \n",
    "            )\n",
    "            mp_drawing.draw_landmarks(\n",
    "                image=image,\n",
    "                landmark_list=face_landmarks,\n",
    "                connections=mp_face_mesh.FACEMESH_CONTOURS,\n",
    "                landmark_drawing_spec=None,\n",
    "                connection_drawing_spec=my_drawing_specs\n",
    "                #.get_default_face_mesh_contours_style()#\n",
    "                \n",
    "            )\n",
    "        \n",
    "        cv2.imshow(\"my video capture\",cv2.flip(image,1))\n",
    "        if cv2.waitKey(100)== ord('q'):#if we press key q for 100 miliseconds it should break#\n",
    "            break\n",
    "\n",
    "cap.release()\n",
    "cv2.destroyAllWindows()"
   ]
  },
  {
   "cell_type": "code",
   "execution_count": null,
   "id": "04f68d95-62ef-4287-96e6-f2c6a38d1fbd",
   "metadata": {},
   "outputs": [],
   "source": []
  }
 ],
 "metadata": {
  "kernelspec": {
   "display_name": "Python 3 (ipykernel)",
   "language": "python",
   "name": "python3"
  },
  "language_info": {
   "codemirror_mode": {
    "name": "ipython",
    "version": 3
   },
   "file_extension": ".py",
   "mimetype": "text/x-python",
   "name": "python",
   "nbconvert_exporter": "python",
   "pygments_lexer": "ipython3",
   "version": "3.12.5"
  }
 },
 "nbformat": 4,
 "nbformat_minor": 5
}
